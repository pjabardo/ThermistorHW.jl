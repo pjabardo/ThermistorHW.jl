{
 "cells": [
  {
   "cell_type": "markdown",
   "metadata": {},
   "source": [
    "# Anemômetro utilizando termistor\n",
    "\n",
    "Este notebook modela um anemômetro utilizando um termistor aquecido pela corrente elétrica passando por ele e esfriado pelo escoamento ao redor do mesmo.\n",
    "\n",
    "A resistência elétrica do termistor varia de acordo com a seguinte relação\n",
    "\n",
    "$$\n",
    "R = R_0\\exp\\left[ B \\cdot \\left(\\frac{1}{T} - \\frac{1}{T_0} \\right) \\right]\n",
    "$$\n",
    "\n",
    "Onde \n",
    " * $T$ é a temperatura do termistor em K\n",
    " * $T_0$ é a temperatura de referência em K\n",
    " * $R_0$ é a resistência do termistor à temperature de referência $T_0$\n",
    " * $B$ é um coeficiente empírico com unidade 1/K\n",
    " "
   ]
  },
  {
   "cell_type": "code",
   "execution_count": null,
   "metadata": {},
   "outputs": [],
   "source": [
    "using Plots\n",
    "pyplot()"
   ]
  },
  {
   "cell_type": "code",
   "execution_count": null,
   "metadata": {},
   "outputs": [],
   "source": [
    "include(\"../src/ThermistorHW.jl\")\n",
    "using ThermistorHW"
   ]
  },
  {
   "cell_type": "markdown",
   "metadata": {},
   "source": [
    "## Verificando o comportamento do Termistor NTC\n",
    "\n",
    "Vamos modelar um termistor com as seguintes características:\n",
    "\n",
    " * $T_0 = 20^\\circ C$\n",
    " * $R_0 = 5000\\:\\Omega$\n",
    " * $B = 3200\\:K^{-1}$\n",
    " "
   ]
  },
  {
   "cell_type": "code",
   "execution_count": null,
   "metadata": {},
   "outputs": [],
   "source": [
    "using CurveFit"
   ]
  },
  {
   "cell_type": "code",
   "execution_count": null,
   "metadata": {},
   "outputs": [],
   "source": [
    "Ro = 20e3\n",
    "R = Thermistor(20e3, 3.47e3, 25)\n",
    "E = 5.0\n",
    "T = 10.0:0.1:40.0\n",
    "Rt = R.(T)\n",
    "i = @. E /(Rt + Ro)\n",
    "Vo =  Ro * i\n",
    "fit = LinearFit(Vo, T)\n",
    "\n",
    "plot(T, Vo)\n",
    "plot!(fit.(Vo), Vo)\n"
   ]
  },
  {
   "cell_type": "code",
   "execution_count": null,
   "metadata": {},
   "outputs": [],
   "source": [
    "mA = i*1000\n",
    "u = 0.0:0.2:10.0\n",
    "output = [const_current.(mA, R, uu, 2.0, T) for uu in u];"
   ]
  },
  {
   "cell_type": "code",
   "execution_count": null,
   "metadata": {},
   "outputs": [],
   "source": [
    "nt = size(T,1)\n",
    "nu = size(u,1)\n",
    "Tw = [output[k][i].T for i=1:nt, k=1:nu];\n"
   ]
  },
  {
   "cell_type": "code",
   "execution_count": null,
   "metadata": {},
   "outputs": [],
   "source": [
    "ii = 151\n",
    "const_current(mA[ii], R, 0.0, 2.0, T[ii]).T - T[ii]"
   ]
  },
  {
   "cell_type": "code",
   "execution_count": null,
   "metadata": {},
   "outputs": [],
   "source": [
    "\n",
    "ii = 1; plot(u, Tw[ii,:]-T[ii])\n",
    "ii = 101; plot!(u, Tw[ii,:]-T[ii])\n",
    "ii = 201; plot!(u, Tw[ii,:]-T[ii])\n",
    "ii = 301; plot!(u, Tw[ii,:]-T[ii])"
   ]
  },
  {
   "cell_type": "code",
   "execution_count": null,
   "metadata": {},
   "outputs": [],
   "source": [
    "T[300]"
   ]
  },
  {
   "cell_type": "code",
   "execution_count": null,
   "metadata": {},
   "outputs": [],
   "source": [
    "mA[1]"
   ]
  },
  {
   "cell_type": "code",
   "execution_count": null,
   "metadata": {},
   "outputs": [],
   "source": [
    "plot(T, T - fit.(Vo))"
   ]
  },
  {
   "cell_type": "code",
   "execution_count": null,
   "metadata": {},
   "outputs": [],
   "source": [
    "(maximum(i), minimum(i)) .* 1000"
   ]
  },
  {
   "cell_type": "code",
   "execution_count": null,
   "metadata": {},
   "outputs": [],
   "source": [
    "plot(T, i)"
   ]
  },
  {
   "cell_type": "code",
   "execution_count": null,
   "metadata": {},
   "outputs": [],
   "source": [
    "T1 = 0.0:0.1:100.0\n",
    "Rt1 = R.(T1)\n",
    "Ro1 = 20e3\n",
    "Rp = Rt1 .* Ro1 ./ (Rt1 .+ Ro1)\n",
    "V1 = 0.2e-3 * Rp\n",
    "\n",
    "plot(T1, V1)"
   ]
  },
  {
   "cell_type": "code",
   "execution_count": null,
   "metadata": {},
   "outputs": [],
   "source": [
    "R = Thermistor(20e3, 3500, 25)\n",
    "Pa = 93.0 # kPa, pressão atmosférica\n",
    "Ta = 20.0 # Temperatura ambiente\n",
    "U = 0.5:0.1:30\n",
    "cca = const_current.(0.22, R, U, 2.0, Ta, Pa);\n",
    "E1 = [x.E for x in cca];\n",
    "T1 = [x.T for x in cca];"
   ]
  },
  {
   "cell_type": "code",
   "execution_count": null,
   "metadata": {},
   "outputs": [],
   "source": [
    "T1"
   ]
  },
  {
   "cell_type": "code",
   "execution_count": null,
   "metadata": {},
   "outputs": [],
   "source": []
  }
 ],
 "metadata": {
  "kernelspec": {
   "display_name": "Julia 0.6.4",
   "language": "julia",
   "name": "julia-0.6"
  },
  "language_info": {
   "file_extension": ".jl",
   "mimetype": "application/julia",
   "name": "julia",
   "version": "0.6.4"
  }
 },
 "nbformat": 4,
 "nbformat_minor": 2
}
