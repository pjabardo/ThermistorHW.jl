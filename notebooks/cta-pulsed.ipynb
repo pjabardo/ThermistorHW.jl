{
 "cells": [
  {
   "cell_type": "markdown",
   "metadata": {},
   "source": [
    "# Simulação CTA com termistor pulsado\n",
    "\n",
    "Um CTA (*Constant Temperatura Anemometer*) é um anemômetro onde um elemento aquecido cuja resistência varia com a temperatura é mantido a uma temperatura (e portanto resistência constante). Este notebook tem por objetivo simular um um anemômetro pulsado onde o controle da resistência é feita por um sinal PWM (*Pulse Width Modulation*) e a entrada analógica de um microcontrolador. O controle é feito por software no microcontrolador.\n",
    "\n",
    "O circuito funciona usando o sinal PWM do microcontrolador para ligar e desligar um circuito com um termistor e um resistor. A tensao neste resistor passa por um filtro passa baixa onde um sinal DC e usado para se estimar a resistencia (e portanto a temperatura) do termistor. Esta tensao por sua vez e lida em uma entrada analogica do microncontrolador. Software no microcontrolador modifica o *duty cycle* do sinal PWM para controlar a resistência do PWM."
   ]
  },
  {
   "cell_type": "code",
   "execution_count": null,
   "metadata": {},
   "outputs": [],
   "source": [
    "using Plots\n",
    "using DifferentialEquations\n",
    "gr()"
   ]
  },
  {
   "cell_type": "code",
   "execution_count": null,
   "metadata": {},
   "outputs": [],
   "source": [
    "include(\"../src/ThermistorHW.jl\")\n",
    "using ThermistorHW"
   ]
  },
  {
   "cell_type": "code",
   "execution_count": null,
   "metadata": {},
   "outputs": [],
   "source": [
    "include(\"cta-pulsed.jl\")"
   ]
  },
  {
   "cell_type": "code",
   "execution_count": null,
   "metadata": {},
   "outputs": [],
   "source": [
    "Rt = Thermistor(5e3, 3200)\n",
    "cta = CTA.PulsedCTA(Rt)\n",
    "Dmm = 2.0\n",
    "htrans = CTA.HeatTrans(Dmm)\n",
    "mcp = CTA.mcpfun(Fe₂O₃, htrans.D)\n",
    "ufun(t) = 10.0\n",
    "duty = 0.2"
   ]
  },
  {
   "cell_type": "code",
   "execution_count": null,
   "metadata": {},
   "outputs": [],
   "source": [
    "y0 = [0.0, htrans.Ta]\n",
    "prob = ODEProblem(CTA.pulsedcta, y0, (0.0, 30.0), \n",
    "    (cta, duty, ufun, htrans, mcp))"
   ]
  },
  {
   "cell_type": "code",
   "execution_count": null,
   "metadata": {},
   "outputs": [],
   "source": [
    "sol = solve(prob, Tsit5(), reltol=1e-8);"
   ]
  },
  {
   "cell_type": "code",
   "execution_count": null,
   "metadata": {},
   "outputs": [],
   "source": [
    "Eai = [u[1] for u in sol.u];\n",
    "T = [u[2] for u in sol.u];"
   ]
  },
  {
   "cell_type": "code",
   "execution_count": null,
   "metadata": {},
   "outputs": [],
   "source": [
    "plot(sol.t, T)"
   ]
  },
  {
   "cell_type": "code",
   "execution_count": null,
   "metadata": {},
   "outputs": [],
   "source": [
    "plot(sol.t, Eai)"
   ]
  }
 ],
 "metadata": {
  "kernelspec": {
   "display_name": "Julia 0.6.3",
   "language": "julia",
   "name": "julia-0.6"
  },
  "language_info": {
   "file_extension": ".jl",
   "mimetype": "application/julia",
   "name": "julia",
   "version": "0.6.3"
  }
 },
 "nbformat": 4,
 "nbformat_minor": 2
}
