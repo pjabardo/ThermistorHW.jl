{
 "cells": [
  {
   "cell_type": "markdown",
   "metadata": {},
   "source": [
    "# Constante de tempo de um termistor\n",
    "\n",
    "Um anemômetro de temperatura constante é basicamente um controlador que procura manter a resistência do sensor constante. Para se poder projetar este controlador, é necessário conhecer o comportamento do elemento sensor (neste caso um termistor NTC), principalmente no que se refere à inércia do sensor.\n",
    "\n",
    "Neste contexto, é interessante saber quanto tempo leva para o sensor variar de temperatura se houver uma mudança brusca de temperatura ambiente. "
   ]
  },
  {
   "cell_type": "markdown",
   "metadata": {},
   "source": [
    "## Modelando o problema\n",
    "\n",
    "A hipótese básica desta análise simplificada é que a temperatura do termistor é uniforme. Isto é válido se o número de Biot for pequeno:\n",
    "\n",
    "$$\n",
    "Bi = \\frac{h D}{k} \\ll 1\n",
    "$$\n",
    "\n",
    "Vamos considerar um termistor feito de Óxido de Ferro Fe₂O₃ e tenha 2 mm de diâmetro e esteja funcionando em ar. Se o termistor estiver a uma temperatura Tₛ inicial e for colocado em um escoamento de ar a temperatura\n",
    "Tₐ, queremos saber quanto tempo leva para a temperatura T do termistor cair. A equação básica é:\n",
    "\n",
    "$$\n",
    "m_s c_p \\frac{dT}{dt} = -h\\cdot A \\cdot \\left(T - T_a\\right)\n",
    "$$\n",
    "onde mₛ é a massa do termistor, cₚ é seu calor específico, h é o coeficiente de convecção e A é a área externa do termistor.\n",
    "\n",
    "Definindo\n",
    "\n",
    "$$\n",
    "\\theta = \\frac{T - T_a}{T_s - T_a}\n",
    "$$\n",
    "\n",
    "de modo que durante o processo de esfriamento $T_a \\le T \\le T_s$. Assim, \n",
    "\n",
    "$$\n",
    "\\delta T = \\delta\\theta \\cdot (T_s - T_a)\n",
    "$$\n",
    "\n",
    "Como escala de tempo a grandeza \n",
    "\n",
    "$$\n",
    "t_0 = \\frac{m_s c_p}{h A}\n",
    "$$\n",
    "\n",
    "Definindo  τ = t / t₀:\n",
    "\n",
    "$$\n",
    "\\delta t = t_0 \\cdot \\tau\n",
    "$$\n",
    "\n",
    "Com estas escalas de tempo e temperatura, chega-se à seguinte equação diferencial:\n",
    "\n",
    "$$\n",
    "\\frac{d\\theta}{d\\tau} = -\\theta\n",
    "$$\n",
    "\n",
    "com condições de contorno $\\theta=1$ para $\\tau=0$\n",
    "\n",
    "A solução desta equação com as condições iniciais é:\n",
    "\n",
    "$$\n",
    "\\theta = \\exp\\left(-\\tau\\right)\n",
    "$$\n",
    "\n",
    "Uma escala de tempo t₁ é o tempo que leva para a temperatura cair 10%. Outra escala de tempo t₂ é o tempo que leva para cair 90%. Em um anemômetro de temperatura constante, a constante t₁ vale:\n",
    "\n",
    "$$\n",
    "t_1 = \\tau_1 \\cdot t_0 \\approx 0.1 \\times t_0\n",
    "$$\n",
    "\n",
    "analogamente\n",
    "\n",
    "$$\n",
    "t_2 = \\tau_2 \\cdot t_0 \\approx 2.3 \\times t_0\n",
    "$$"
   ]
  },
  {
   "cell_type": "code",
   "execution_count": null,
   "metadata": {},
   "outputs": [],
   "source": [
    "using Plots\n",
    "pyplot()\n",
    "include(\"../src/ThermistorHW.jl\")\n",
    "using ThermistorHW"
   ]
  },
  {
   "cell_type": "code",
   "execution_count": null,
   "metadata": {},
   "outputs": [],
   "source": [
    "D = 2e-3\n",
    "U = 0.5:0.5:20\n",
    "Ts = 90.0\n",
    "Ta = 20.0\n",
    "Pa = 93.0\n",
    "R = D/2\n",
    "A = 4π*R^2\n",
    "Vol = 4π*R^3/3\n"
   ]
  },
  {
   "cell_type": "code",
   "execution_count": null,
   "metadata": {},
   "outputs": [],
   "source": [
    "h = hconvect.(U, D, Ts, Ta, Pa);\n",
    "k = thermalcond(Fe₂O₃)\n",
    "ρ = ThermistorHW.density(Fe₂O₃)\n",
    "cₚ = specheat(Fe₂O₃)\n",
    "m = ρ*Vol"
   ]
  },
  {
   "cell_type": "code",
   "execution_count": null,
   "metadata": {},
   "outputs": [],
   "source": [
    "t₀ = m*cₚ./(h*A);\n",
    "t₁ = -log(0.9) * t₀\n",
    "t₂ = -log(0.1) * t₀;\n",
    "Bi = h*D/k;"
   ]
  },
  {
   "cell_type": "code",
   "execution_count": null,
   "metadata": {},
   "outputs": [],
   "source": [
    "plot(U, h, xlab=\"Velocidade (m/s)\", ylab=\"Coeficiente de convecção (W/m²K)\", \n",
    "    label=\"h\", title=\"Coeficiente de Convecção\")"
   ]
  },
  {
   "cell_type": "code",
   "execution_count": null,
   "metadata": {},
   "outputs": [],
   "source": [
    "plot(U, t₀, xlab=\"Velocidade (m/s)\", ylab=\"Escala de tempo (s)\", \n",
    "    title=\"Escalas de Tempo\", label=\"Escala básica\", yscale=:log10)\n",
    "plot!(U, t₁, label=\"10%\")\n",
    "plot!(U, t₂, label=\"90%\")"
   ]
  },
  {
   "cell_type": "code",
   "execution_count": null,
   "metadata": {},
   "outputs": [],
   "source": [
    "plot(U, t₁, xlab=\"Velocidade (m/s)\", ylab=\"Escala de tempo (s)\", \n",
    "    title=\"Tempo para reduzir a temperatura em 10%\", label=\"10%\")\n"
   ]
  },
  {
   "cell_type": "code",
   "execution_count": null,
   "metadata": {},
   "outputs": [],
   "source": [
    "plot(U, Bi, xlab=\"Velocidade (m/s)\", ylab=\"Número de Biot (Bi)\", \n",
    "    title=\"Número de Biot\")"
   ]
  },
  {
   "cell_type": "code",
   "execution_count": null,
   "metadata": {},
   "outputs": [],
   "source": [
    "p1 = plot(U, t₀, xlab=\"Velocity (m/s)\", ylab=\"Time scale (s)\", \n",
    "    title=\"(a) Time Scale\", label=\"m cₚ / h A\")\n",
    "plot!(U, t₁, label=\"10%\")\n",
    "plot!(U, t₂, label=\"90%\")\n",
    "\n",
    "p2 = plot(U, Bi, xlab=\"Velocity (m/s)\", ylab=\"Bi\", \n",
    "    title=\"(b) Biot Number\")\n",
    "\n",
    "plot(p1, p2, layout=(1,2))\n",
    "\n",
    "savefig(\"../figures/thermistor-dynamics.pdf\")"
   ]
  },
  {
   "cell_type": "code",
   "execution_count": null,
   "metadata": {},
   "outputs": [],
   "source": [
    "U[20]\n",
    "t₁[20]"
   ]
  },
  {
   "cell_type": "markdown",
   "metadata": {},
   "source": [
    "## Conclusões\n",
    "\n",
    "As escalas de tempo variam com a velocidade devido à variação do coeficiente de convecção. \n",
    "\n",
    "O tempo que leva para que a temperatura caia 10% varia entre 1 s (para 2 m/s) e 0.2 s para velocidade de 15 m/s.\n",
    "\n",
    "Uma observação importante é que o número de Biot é maior que 1 para velocidade de 15 m/s. Ou seja, exceto para velocidades muito baixas (inferiores a 1 m/s em geral) não é razoável admitir temperatura do termistor uniforme. Uma análise mais precisa deve introduzir uma distribuição de temperatura dentro do termistor. Mas como uma análise inicial de um sensor que será calibrado estas constantes de tempo são razoáveis.\n"
   ]
  }
 ],
 "metadata": {
  "kernelspec": {
   "display_name": "Julia 0.6.4",
   "language": "julia",
   "name": "julia-0.6"
  },
  "language_info": {
   "file_extension": ".jl",
   "mimetype": "application/julia",
   "name": "julia",
   "version": "0.6.4"
  }
 },
 "nbformat": 4,
 "nbformat_minor": 2
}
