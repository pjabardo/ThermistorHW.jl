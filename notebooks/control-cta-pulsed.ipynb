{
 "cells": [
  {
   "cell_type": "markdown",
   "metadata": {},
   "source": [
    "# Sistema de controle do CTA pulsado\n",
    "\n",
    "Este notebook tenta modelar o controle do anemômetro Pulsado. As variáveis do problema são listadas a seguir:\n",
    "\n",
    " * $T$ Temperatura do termistor\n",
    " * $R(T)$ Resistência elétrica do termistor a uma temperatura $T$\n",
    " * $T_w$ Temperatura do termistor desejada\n",
    " * $R_w$ Resistência de termistor na temperatura desejada\n",
    " * $R_i$ Resistência para medição da corrente\n",
    " * $R_{tot}$ Resistência total: $R(T) + R_i$\n",
    " * $E_i$ Tensão de alimentação\n",
    " * $x$ Parâmetro de controle do PWM ($0\\le x \\le 1$)\n",
    " * $I$ Corrente média passando pelo termistor\n",
    " * $T_a$ Temperatura ambiente\n",
    " * $h$ Coeficiente de convecção, depende da velocidade ($h = h(U)$)\n",
    " * $A$ Área externa do termistor\n",
    " \n",
    " ## Modelo do termoanemômetro\n",
    " \n",
    " Um balanço de energia, admitindo temperatura uniforme do termistor resulta na seguinte equação para a temperatura:\n",
    " \n",
    " $$\n",
    " mc_p\\frac{dT}{dt} = -hA\\cdot(T-T_a) + R(T)\\cdot I^2\n",
    " $$\n",
    " \n",
    " Lembrando que se a frequência do PWM for alta de modo que o período seja muito menor que a constante de tempo do termistor (da ordem de 1s), podemos desprezar a dinâmica causada pelos pulsos e trabalhar com uma média que varia lentamente. Assim, \n",
    " \n",
    " $$I = \\frac{x\\cdot E_i}{R(T) + R_i}$$\n",
    " \n",
    " Assim, \n",
    " \n",
    " $$\n",
    " \\frac{dT}{dt} = -\\frac{h A}{m c_p}\\left(T-T_a\\right) + \\frac{R(T)}{m c_p}\\cdot \\left(\\frac{x E_i}{R{T} + R_i}\\right)^2\n",
    " $$\n",
    " \n",
    " Esta equação pode ser reescrita como \n",
    " $$\n",
    " \\frac{dT}{dt} = -\\beta(U)\\left(T-T_a\\right) + \\eta x^2\n",
    " $$\n",
    "onde\n",
    " $$\\beta = \\frac{h(U) A}{m c_p}$$\n",
    "e\n",
    "$$ \\eta = \\frac{R(T) E_i^2}{m c_p \\left[R(T) + R_i\\right]^2} $$\n",
    "\n",
    "Como o objetivo é manter a temperatura (e portanto a resistência) constante e como $R(T) \\gg R_i$ (concretamente, $R(20^\\circ C) \\approx 5 k\\Omega$ $R(75^\\circ C) \\approx 1 k\\Omega$ com $R_i\\approx 0.1 k\\Omega$) então pode-se admitir $\\eta$ constante valendo\n",
    "$$\n",
    "\\eta(T) \\approx \\eta(T_w) = \\eta  = \\frac{R_w E_i^2}{m c_p \\left[R_w + R_i\\right]^2} $$\n",
    "\n",
    "\n",
    "## Controlador\n",
    "Em um anemômetro de temperatura constante, o objetivo do circuito/programa do controlador é manter a temperatura do elemento sensor (termistor neste caso) constante com\n",
    "\n",
    "$$\n",
    "T = T_w\n",
    "$$\n",
    "\n",
    "Isto é feito variando o duty cycle do PWM da alimentação $x$. \n",
    "\n",
    "Definindo o erro como\n",
    "$$\\epsilon(t) = T(t) - T_w$$\n",
    "em um controlador proporcional\n",
    "$$\n",
    "x(t) = \\alpha_1\\cdot \\epsilon(t) - x_0\n",
    "$$\n",
    "É importante observar o parâmetro $x_0$. Em regime permanente, o erro vale zero mas é necessário que $x = x_0 > 0$ para manter o funcionamento. Ou seja, para que não haja erro em regime permanente ($\\epsilon(t)=0$), é necessário que $x_0$ tenha  um valor que *depende da velocidade do vento*. Este valor pode ser calculado considerando $dT/dt = 0$:\n",
    "\n",
    "$$\n",
    "x_u = x(U) = \\sqrt{\\frac{\\beta(U)\\left(T_w-T_a\\right)}{\\eta}}\n",
    "$$\n",
    "\n",
    "A variável $x_u$ pode ser obtida durante a calibração mas durante o uso do anemômetro, este valor não é conhecido e fixando um valor de $x_0$ resulta em erro sistemático da temperatura que pode ser considerável. Assim, é necessário que exista algo para corrigir isso. Então será adotado um controlador Proporcional/Integral (PI):\n",
    "\n",
    "$$\n",
    "x(t) = \\alpha_1\\cdot\\epsilon(t) + \\alpha_2\\cdot\\int^t \\epsilon(t)\\:dt\n",
    "$$\n",
    "\n",
    "derivando esta equação pode-se chegar a uma equação diferencial para $x$:\n",
    "\n",
    "$$\n",
    "\\frac{dx}{dt} = \\alpha_1\\frac{dT}{dt} + \\alpha_2\\cdot\\left[T(t) - T_w\\right]\n",
    "$$\n",
    "\n",
    "\n",
    "Assim temos um sistema de equações diferenciais ordinárias que podem ser resolvidas numericamente.\n"
   ]
  },
  {
   "cell_type": "markdown",
   "metadata": {},
   "source": [
    "## Inicializar o ambiente julia"
   ]
  },
  {
   "cell_type": "code",
   "execution_count": null,
   "metadata": {},
   "outputs": [],
   "source": [
    "include(\"../src/ThermistorHW.jl\")\n",
    "using ThermistorHW\n",
    "using Plots\n",
    "using CurveFit\n",
    "using DifferentialEquations\n",
    "gr()"
   ]
  },
  {
   "cell_type": "code",
   "execution_count": null,
   "metadata": {},
   "outputs": [],
   "source": [
    "include(\"cta-pulsed.jl\")"
   ]
  },
  {
   "cell_type": "markdown",
   "metadata": {},
   "source": [
    "##  Montar o problema com valores típicos/esperados"
   ]
  },
  {
   "cell_type": "code",
   "execution_count": null,
   "metadata": {},
   "outputs": [],
   "source": [
    "Rt = Thermistor(5000, 3000)\n",
    "Tw = 85.0\n",
    "cta = CTA.PulsedCTA(Rt)\n",
    "Rw = Rt(Tw)\n",
    "htrans = CTA.HeatTrans(Tw)\n",
    "Ei = cta.Vi\n",
    "Ri = cta.Ri\n",
    "mcp = htrans.mcp\n",
    "Ta = htrans.Ta"
   ]
  },
  {
   "cell_type": "markdown",
   "metadata": {},
   "source": [
    "## Estimar $\\beta(U)$ e $\\eta$"
   ]
  },
  {
   "cell_type": "code",
   "execution_count": null,
   "metadata": {},
   "outputs": [],
   "source": [
    "u = 0.2:0.1:20.0\n",
    "β₁ = CTA.hamcpfun.(htrans, u, 0.0, 25);\n",
    "β = CTA.hamcpfun.(htrans, u, 0.0, Tw);\n",
    "etafun(R, mcp, Ri=100.0, Ei=24.0) = R * Ei^2 / (mcp * (R + Ri)^2 )\n",
    "η = etafun(Rw, mcp, Ri, Ei)\n",
    "\n"
   ]
  },
  {
   "cell_type": "code",
   "execution_count": null,
   "metadata": {},
   "outputs": [],
   "source": [
    "plot(u, β₁)\n",
    "plot!(u, β)"
   ]
  },
  {
   "cell_type": "code",
   "execution_count": null,
   "metadata": {},
   "outputs": [],
   "source": [
    "usqrt = sqrt.(u)\n",
    "a1,a2, na = king_fit(sqrt.(β), u)\n",
    "betafun(u) = a1 + a2 * u^na\n",
    "plot(u, β)\n",
    "plot!(u, betafun.(u))\n"
   ]
  },
  {
   "cell_type": "code",
   "execution_count": null,
   "metadata": {},
   "outputs": [],
   "source": [
    "η"
   ]
  },
  {
   "cell_type": "code",
   "execution_count": null,
   "metadata": {},
   "outputs": [],
   "source": [
    "xᵤ = @. sqrt( β * (Tw-Ta) / η )\n",
    "b1,b2,nb = king_fit(sqrt.(xᵤ), u)\n",
    "xfun(u) = b1 + b2*u^nb\n",
    "plot(u, xᵤ)\n",
    "plot!(u, xfun.(u))\n"
   ]
  },
  {
   "cell_type": "code",
   "execution_count": null,
   "metadata": {},
   "outputs": [],
   "source": [
    "function efun(x, R, Ri=100.0, Ei=24.0)\n",
    "        \n",
    "    Eim = x * Ei\n",
    "    \n",
    "    I = Eim / (R + Ri)\n",
    "    \n",
    "    return I * Ri\n",
    "end\n"
   ]
  },
  {
   "cell_type": "markdown",
   "metadata": {},
   "source": [
    "## Controle para uma velocidade fixa"
   ]
  },
  {
   "cell_type": "code",
   "execution_count": null,
   "metadata": {},
   "outputs": [],
   "source": [
    "function controle(du, u, p, t)\n",
    "    Tw = p[1]\n",
    "    β = p[2]\n",
    "    η = p[3]\n",
    "    α₁ = p[4]\n",
    "    α₂ = p[5]\n",
    "    dT = -β*u[1] + η*u[2]^2\n",
    "    dx = -α₁*dT - α₂*(u[1]-Tw)\n",
    "    du[1] = dT\n",
    "    du[2] = dx\n",
    "end"
   ]
  },
  {
   "cell_type": "code",
   "execution_count": null,
   "metadata": {},
   "outputs": [],
   "source": [
    "\n",
    "u0 = [0.0, 0.5]\n",
    "tspan = (0.0, 200.0)\n",
    "p = (50.0, 0.22, η, 0.00015, 0.00012)\n",
    "prob = ODEProblem(controle, u0, tspan, p)"
   ]
  },
  {
   "cell_type": "code",
   "execution_count": null,
   "metadata": {},
   "outputs": [],
   "source": [
    "s = solve(prob);\n",
    "\n",
    "plot(s.t, s[1,:]./50.0)\n",
    "plot!(s.t, s[2,:])"
   ]
  },
  {
   "cell_type": "markdown",
   "metadata": {},
   "source": [
    "## Mudando a velocidade"
   ]
  },
  {
   "cell_type": "code",
   "execution_count": null,
   "metadata": {},
   "outputs": [],
   "source": [
    "function ctacontrole(du, u, p, t)\n",
    "    \n",
    "    cta = p[1]\n",
    "    htrans = p[2]\n",
    "    Tw = htrans.Tw\n",
    "    vel = p[3]\n",
    "    Ta = htrans.Ta\n",
    "    \n",
    "    R = cta.Rt(u[1])\n",
    "    η = etafun(R, htrans.mcp, cta.Ri, cta.Vi)\n",
    "    V = vel(t)\n",
    "    β = CTA.hamcpfun(htrans, V, t, u[1])\n",
    "    \n",
    "    α₁ = p[4]\n",
    "    α₂ = p[5]\n",
    "\n",
    "    dT = -β*(u[1]-Ta) + η*u[2]^2\n",
    "    dx = -α₁*dT - α₂*(u[1]-Tw)\n",
    "    \n",
    "    du[1] = dT\n",
    "    du[2] = dx\n",
    "end"
   ]
  },
  {
   "cell_type": "markdown",
   "metadata": {},
   "source": [
    "### Definição do Problema"
   ]
  },
  {
   "cell_type": "code",
   "execution_count": null,
   "metadata": {},
   "outputs": [],
   "source": [
    "Rt1 = Thermistor(5000, 3000)\n",
    "Tw1 = 85.0\n",
    "Rw1 = Rt1(Tw1)\n",
    "cta1 = CTA.PulsedCTA(Rt1)\n",
    "htrans1 = CTA.HeatTrans(Tw1)\n",
    "Ta1 = htrans.Ta\n"
   ]
  },
  {
   "cell_type": "markdown",
   "metadata": {},
   "source": [
    "### Curva de Calibração"
   ]
  },
  {
   "cell_type": "code",
   "execution_count": null,
   "metadata": {},
   "outputs": [],
   "source": [
    "ucal = 0.3:0.1:20.0\n",
    "etacal = etafun(Rt1(Tw1), htrans1.mcp, cta1.Ri, cta1.Vi)\n",
    "betacal = CTA.hamcpfun.(htrans1, ucal, 0.0, Tw1)\n",
    "xcal = @. sqrt(betacal*(Tw1-Ta1) / etacal)\n",
    "Ecal = efun.(xcal, Rw1, cta1.Ri, cta1.Vi)\n",
    "\n",
    "xcalibr = KingFit(Ecal, ucal)\n",
    "\n",
    "plot(ucal, Ecal)\n",
    "plot!(xcalibr.(Ecal), Ecal)\n"
   ]
  },
  {
   "cell_type": "code",
   "execution_count": null,
   "metadata": {},
   "outputs": [],
   "source": [
    "xcalibr(1.5)"
   ]
  },
  {
   "cell_type": "code",
   "execution_count": null,
   "metadata": {},
   "outputs": [],
   "source": [
    "#vel = CTA.VelRampConst()\n",
    "vel = CTA.VelFreq(10.0, 50, 4)\n",
    "#vel = CTA.VelStep(10, 0, 10)\n",
    "p = (cta1, htrans1, vel, 15, 15)\n",
    "\n",
    "T0 = Tw1\n",
    "eta0 = etafun(Rt1(T0), htrans1.mcp, cta1.Ri, cta1.Vi)\n",
    "beta0 = CTA.hamcpfun(htrans1, vel(0.0), 0.0, T0)\n",
    "x0 = sqrt(beta0*(T0-Ta1)/eta0)\n",
    "\n",
    "#Equação de calibração:\n",
    "\n",
    "u0 = [Tw1, x0]\n",
    "\n",
    "tspan = (0.0, 1.0)\n",
    "\n",
    "\n",
    "\n",
    "prob2 = ODEProblem(ctacontrole, u0, tspan, p)\n",
    "s = solve(prob2, dtmax=0.01)\n",
    "T = s[1,:]\n",
    "x = s[2,:]\n",
    "Eo = efun.(x, Rt.(T))\n",
    "Uc = xcalibr.(Eo)\n",
    "#plot(s.t, s[1,:]./50.0)\n",
    "plot(s.t, vel.(s.t))\n",
    "plot!(s.t, Uc)\n"
   ]
  },
  {
   "cell_type": "code",
   "execution_count": null,
   "metadata": {},
   "outputs": [],
   "source": [
    "plot(s.t, s[2,:])"
   ]
  },
  {
   "cell_type": "markdown",
   "metadata": {},
   "source": [
    "## Controle digital\n",
    "\n",
    "Na seção anterior chegamos a equações para modelar o termistor e o sistema de controle. A próxima etapa é discretizar isso, chegando a algo que possa ser implementado em um microcontrolador.\n",
    "\n",
    "Usando diferenças finitas, e chamando\n",
    "\n",
    "$$\n",
    "\\hat{T}_i = -\\beta\\left(T_i - T_a\\right) + \\eta x_i^2\n",
    "$$\n",
    "\n",
    "chega-se à seguinte equação para $T_i$:\n",
    "\n",
    "$$\n",
    "    T_{i+1} = T_i + \\Delta t \\cdot\\left[ -\\beta\\left(T_i - T_a\\right) + \\eta x_i^2\\right] = T_i + \\Delta t\\cdot\\hat{T}_i\n",
    "$$\n",
    "\n",
    "A equação para $x$ é:\n",
    "\n",
    "$$\n",
    "x_{i+1} = x_i + \\Delta t\\cdot\\left[\\alpha_1\\hat{T}_i + \\alpha_2\\left(T_i-T_w\\right)\\right]\n",
    "$$"
   ]
  },
  {
   "cell_type": "code",
   "execution_count": null,
   "metadata": {},
   "outputs": [],
   "source": [
    "function ctadigital(x, T, t, U, dt, cta, htrans, α₁=0.5, α₂=0.5,  σ=0.0)\n",
    "  \n",
    "    Tw = htrans.Tw\n",
    "    Ta = htrans.Ta\n",
    "    eT = σ*randn()\n",
    "    T1 = T + eT\n",
    "    \n",
    "    R = cta.Rt(T1)\n",
    "    η = etafun(R, htrans.mcp, cta.Ri, cta.Vi)\n",
    "    β = CTA.hamcpfun(htrans, U, t, T1)\n",
    "    \n",
    "    That = -β*(T1-Ta) + η*x^2\n",
    "    \n",
    "    return x - dt*(α₁*That + α₂*(T1 - Tw)), T + dt*That\n",
    "end\n"
   ]
  },
  {
   "cell_type": "markdown",
   "metadata": {},
   "source": [
    "### Definição do problema\n"
   ]
  },
  {
   "cell_type": "code",
   "execution_count": null,
   "metadata": {},
   "outputs": [],
   "source": [
    "\n",
    "Rt2 = Thermistor(5000, 3000)\n",
    "Tw2 = 85.0\n",
    "Rw2 = Rt1(Tw2)\n",
    "cta2 = CTA.PulsedCTA(Rt2)\n",
    "htrans2 = CTA.HeatTrans(Tw2)\n",
    "Ta2 = htrans.Ta\n",
    "\n"
   ]
  },
  {
   "cell_type": "markdown",
   "metadata": {},
   "source": [
    "### Nova curva de calibração"
   ]
  },
  {
   "cell_type": "code",
   "execution_count": null,
   "metadata": {},
   "outputs": [],
   "source": [
    "ucal2 = 0.3:0.1:20.0\n",
    "etacal2 = etafun(Rt2(Tw2), htrans2.mcp, cta2.Ri, cta2.Vi)\n",
    "betacal2 = CTA.hamcpfun.(htrans2, ucal2, 0.0, Tw2)\n",
    "xcal2 = @. sqrt(betacal2*(Tw2-Ta2) / etacal2)\n",
    "Ecal2 = efun.(xcal2, Rw2, cta2.Ri, cta2.Vi)\n",
    "\n",
    "xcalibr2 = KingFit(Ecal2, ucal2)\n",
    "\n"
   ]
  },
  {
   "cell_type": "code",
   "execution_count": null,
   "metadata": {},
   "outputs": [],
   "source": [
    "dt = 0.02\n",
    "\n",
    "#vel = CTA.VelRampConst()\n",
    "vel = CTA.VelFreq(10.0, 0.1, 4)\n",
    "\n",
    "T0 = Tw2\n",
    "eta0 = etafun(Rt2(T0), htrans2.mcp, cta2.Ri, cta2.Vi)\n",
    "beta0 = CTA.hamcpfun(htrans2, vel(0.0), 0.0, T0)\n",
    "x0 = sqrt(beta0*(T0-Ta1)/eta0)\n",
    "\n",
    "tmax = 60.0\n",
    "\n",
    "#Equação de calibração:\n",
    "\n",
    "u0 = [T0, x0]\n",
    "\n",
    "tspan = (0.0, 60.0)\n",
    "\n",
    "tt = 0.0:dt:tmax\n",
    "nt = length(tt)\n",
    "T = zeros(nt)\n",
    "x = zeros(nt)\n",
    "\n",
    "\n",
    "T[1] = T0\n",
    "x[1] = x0\n",
    "\n",
    "for i  = 2:nt\n",
    "    U =  vel(tt[i])\n",
    "    x[i], T[i] = ctadigital(x[i-1], T[i-1], tt[i], U, dt, cta, htrans, 0.03, 0.02, 5.0)        \n",
    "end\n",
    "\n",
    "Eo = efun.(x, Rt2.(T))\n",
    "Uc = xcalibr2.(Eo)\n",
    "\n",
    "plot(tt, Uc)\n",
    "plot!(tt, vel.(tt))\n"
   ]
  },
  {
   "cell_type": "code",
   "execution_count": null,
   "metadata": {},
   "outputs": [],
   "source": [
    "plot(tt,Eo)"
   ]
  }
 ],
 "metadata": {
  "kernelspec": {
   "display_name": "Julia 0.6.4",
   "language": "julia",
   "name": "julia-0.6"
  },
  "language_info": {
   "file_extension": ".jl",
   "mimetype": "application/julia",
   "name": "julia",
   "version": "0.6.4"
  }
 },
 "nbformat": 4,
 "nbformat_minor": 2
}
