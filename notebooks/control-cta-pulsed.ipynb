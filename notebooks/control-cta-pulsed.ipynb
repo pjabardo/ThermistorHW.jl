{
 "cells": [
  {
   "cell_type": "markdown",
   "metadata": {},
   "source": [
    "# Sistema de controle do CTA pulsado"
   ]
  },
  {
   "cell_type": "code",
   "execution_count": null,
   "metadata": {},
   "outputs": [],
   "source": [
    "include(\"../src/ThermistorHW.jl\")\n",
    "using ThermistorHW\n",
    "using Plots\n",
    "using CurveFit\n",
    "using DifferentialEquations\n",
    "gr()"
   ]
  },
  {
   "cell_type": "code",
   "execution_count": null,
   "metadata": {},
   "outputs": [],
   "source": [
    "include(\"cta-pulsed.jl\")"
   ]
  },
  {
   "cell_type": "code",
   "execution_count": null,
   "metadata": {},
   "outputs": [],
   "source": [
    "Rt = Thermistor(5000, 3000)\n",
    "Tw = 85.0\n",
    "cta = CTA.PulsedCTA(Rt)\n",
    "Rw = Rt(Tw)\n",
    "htrans = CTA.HeatTrans(Tw)\n",
    "Ei = cta.Vi\n",
    "Ri = cta.Ri\n",
    "mcp = htrans.mcp\n",
    "Ta = htrans.Ta"
   ]
  },
  {
   "cell_type": "code",
   "execution_count": null,
   "metadata": {},
   "outputs": [],
   "source": [
    "u = 0.2:0.1:20.0\n",
    "β₁ = CTA.hamcpfun.(htrans, u, 0.0, 25);\n",
    "β = CTA.hamcpfun.(htrans, u, 0.0, Tw);\n",
    "η = Rw / (Rw + Ri)^2 * Ei^2/mcp\n"
   ]
  },
  {
   "cell_type": "code",
   "execution_count": null,
   "metadata": {},
   "outputs": [],
   "source": [
    "plot(u, β₁)\n",
    "plot!(u, β)"
   ]
  },
  {
   "cell_type": "code",
   "execution_count": null,
   "metadata": {},
   "outputs": [],
   "source": [
    "usqrt = sqrt.(u)\n",
    "a1,a2, na = king_fit(sqrt.(β), u)\n",
    "betafun(u) = a1 + a2 * u^na\n",
    "plot(u, β)\n",
    "plot!(u, betafun.(u))\n"
   ]
  },
  {
   "cell_type": "code",
   "execution_count": null,
   "metadata": {},
   "outputs": [],
   "source": [
    "xᵤ = @. sqrt( β * (Tw-Ta) / η )\n",
    "b1,b2,nb = king_fit(sqrt.(xᵤ), u)\n",
    "xfun(u) = b1 + b2*u^nb\n",
    "plot(u, xᵤ)\n",
    "plot!(u, xfun.(u))\n"
   ]
  },
  {
   "cell_type": "code",
   "execution_count": null,
   "metadata": {},
   "outputs": [],
   "source": [
    "function efun(x, R, Ri=100.0, Ei=24.0)\n",
    "        \n",
    "    Eim = x * Ei\n",
    "    \n",
    "    I = Eim / (R + Ri)\n",
    "    \n",
    "    return I * Ri\n",
    "end\n"
   ]
  },
  {
   "cell_type": "code",
   "execution_count": null,
   "metadata": {},
   "outputs": [],
   "source": [
    "function controle(du, u, p, t)\n",
    "    Tw = p[1]\n",
    "    β = p[2]\n",
    "    η = p[3]\n",
    "    α₁ = p[4]\n",
    "    α₂ = p[5]\n",
    "    dT = -β*u[1] + η*u[2]^2\n",
    "    dx = -α₁*dT - α₂*(u[1]-Tw)\n",
    "    du[1] = dT\n",
    "    du[2] = dx\n",
    "end"
   ]
  },
  {
   "cell_type": "code",
   "execution_count": null,
   "metadata": {},
   "outputs": [],
   "source": [
    "u0 = [0.0, 0.5]\n",
    "tspan = (0.0, 200.0)\n",
    "p = (50.0, 0.22, η, 0.00015, 0.00012)\n",
    "prob = ODEProblem(controle, u0, tspan, p)"
   ]
  },
  {
   "cell_type": "code",
   "execution_count": null,
   "metadata": {},
   "outputs": [],
   "source": [
    "s = solve(prob);\n",
    "\n",
    "plot(s.t, s[1,:]./50.0)\n",
    "plot!(s.t, s[2,:])"
   ]
  },
  {
   "cell_type": "code",
   "execution_count": null,
   "metadata": {},
   "outputs": [],
   "source": [
    "function controle2(du, u, p, t)\n",
    "    Tw = p[1]\n",
    "    vel = p[2]\n",
    "    η = p[3]\n",
    "    α₁ = p[4]\n",
    "    α₂ = p[5]\n",
    "    V= vel(t)\n",
    "    β = betafun(V)\n",
    "    dT = -β*(u[1]-20.0) + η*u[2]^2\n",
    "    dx = -α₁*dT - α₂*(u[1]-Tw)\n",
    "    du[1] = dT\n",
    "    du[2] = dx\n",
    "end"
   ]
  },
  {
   "cell_type": "code",
   "execution_count": null,
   "metadata": {},
   "outputs": [],
   "source": [
    "u0 = [70.0, 0.593]\n",
    "tspan = (0.0, 50.0)\n",
    "#p = (50.0, CTA.VelRampConst(10.0, 20.0), η, 0.01, 0.008)\n",
    "vel = CTA.VelFreq(10.0, 0.5, 2)\n",
    "p = (70.0, vel, η, 0.01, 0.008)\n",
    "\n",
    "prob2 = ODEProblem(controle2, u0, tspan, p)\n",
    "s = solve(prob2, dtmax=0.1)\n",
    "T = s[1,:]\n",
    "x = s[2,:]\n",
    "Eo = efun.(x, Rt.(T))\n",
    "#plot(s.t, s[1,:]./50.0)\n",
    "plot(s.t, s[2,:])\n"
   ]
  },
  {
   "cell_type": "code",
   "execution_count": null,
   "metadata": {},
   "outputs": [],
   "source": [
    "vel = CTA.VelRampConst(10.0, 10.0)\n",
    "plot(s.t, vel.)\n"
   ]
  },
  {
   "cell_type": "code",
   "execution_count": null,
   "metadata": {},
   "outputs": [],
   "source": [
    "xfun(10)"
   ]
  },
  {
   "cell_type": "code",
   "execution_count": null,
   "metadata": {},
   "outputs": [],
   "source": []
  }
 ],
 "metadata": {
  "kernelspec": {
   "display_name": "Julia 0.6.4",
   "language": "julia",
   "name": "julia-0.6"
  },
  "language_info": {
   "file_extension": ".jl",
   "mimetype": "application/julia",
   "name": "julia",
   "version": "0.6.4"
  }
 },
 "nbformat": 4,
 "nbformat_minor": 2
}
