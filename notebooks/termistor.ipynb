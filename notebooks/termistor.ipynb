{
 "cells": [
  {
   "cell_type": "markdown",
   "metadata": {},
   "source": [
    "# Anemômetro utilizando termistor\n",
    "\n",
    "Este notebook modela um anemômetro utilizando um termistor aquecido pela corrente elétrica passando por ele e esfriado pelo escoamento ao redor do mesmo.\n",
    "\n",
    "A resistência elétrica do termistor varia de acordo com a seguinte relação\n",
    "\n",
    "$$\n",
    "R = R_0\\exp\\left[ B \\cdot \\left(\\frac{1}{T} - \\frac{1}{T_0} \\right) \\right]\n",
    "$$\n",
    "\n",
    "Onde \n",
    " * $T$ é a temperatura do termistor em K\n",
    " * $T_0$ é a temperatura de referência em K\n",
    " * $R_0$ é a resistência do termistor à temperature de referência $T_0$\n",
    " * $B$ é um coeficiente empírico com unidade 1/K\n",
    " "
   ]
  },
  {
   "cell_type": "code",
   "execution_count": null,
   "metadata": {},
   "outputs": [],
   "source": [
    "using Plots\n",
    "pyplot()"
   ]
  },
  {
   "cell_type": "code",
   "execution_count": null,
   "metadata": {},
   "outputs": [],
   "source": [
    "include(\"../src/ThermistorHW.jl\")\n",
    "using ThermistorHW"
   ]
  },
  {
   "cell_type": "markdown",
   "metadata": {},
   "source": [
    "## Verificando o comportamento do Termistor NTC\n",
    "\n",
    "Vamos modelar um termistor com as seguintes características:\n",
    "\n",
    " * $T_0 = 20^\\circ C$\n",
    " * $R_0 = 5000\\:\\Omega$\n",
    " * $B = 3200\\:K^{-1}$\n",
    " "
   ]
  },
  {
   "cell_type": "code",
   "execution_count": null,
   "metadata": {},
   "outputs": [],
   "source": [
    "R = Thermistor(5e3, 3000, 20)"
   ]
  },
  {
   "cell_type": "code",
   "execution_count": null,
   "metadata": {},
   "outputs": [],
   "source": [
    "T = 0.0:0.5:120.0\n",
    "r = R.(T);"
   ]
  },
  {
   "cell_type": "code",
   "execution_count": null,
   "metadata": {},
   "outputs": [],
   "source": [
    "plot(T, r, xlab=\"Temperature (°C)\", ylab=\"Resistance (Ω)\",\n",
    "    label=\"Thermistor R₀ = 5kΩ, B = 3000 K\", title=\"Resistance of a Thermistor\")\n",
    "\n",
    "savefig(\"../figures/thermistor.pdf\")\n",
    "\n"
   ]
  },
  {
   "cell_type": "code",
   "execution_count": null,
   "metadata": {},
   "outputs": [],
   "source": []
  },
  {
   "cell_type": "markdown",
   "metadata": {},
   "source": [
    "## Funcionamento de um anomômetro\n",
    "\n",
    "O calor gerado pela corrente elétrica no termistor é transferido por convecção para o escoamento ao seu redor:\n",
    "\n",
    "$$\n",
    "R(T)\\cdot I^2 = h\\cdot A\\cdot \\left(T - T_\\infty\\right)\n",
    "$$\n",
    "\n",
    "Lembrando que $h$ depende da velocidade, esta equação pode ser resolvida. Existem dois modos básicos de operação:\n",
    "\n",
    " * Corrente constante, onde I é conhecida e deve-se determinar a temperatura do termistor\n",
    " * Temperatura constante, onde T é conhecida e deve-se determinar a corrente\n",
    " \n",
    " É interessante observar que apesar da eletrônica do modo corrente constante ser muito mais simples, neste modelo é necessário usar um esquema iterativo para calcular a temperatura. Por outro lado, o modelo com temperatura constante é direto."
   ]
  },
  {
   "cell_type": "markdown",
   "metadata": {},
   "source": [
    "## Temperatura constante"
   ]
  },
  {
   "cell_type": "code",
   "execution_count": null,
   "metadata": {},
   "outputs": [],
   "source": [
    "R = Thermistor(5e3, 3000)\n",
    "Pa = 93.0 # kPa, pressão atmosférica\n",
    "Ta = 20.0 # Temperatura ambiente\n",
    "U = 0.5:0.1:30\n"
   ]
  },
  {
   "cell_type": "code",
   "execution_count": null,
   "metadata": {},
   "outputs": [],
   "source": [
    "d1 = 1.5\n",
    "d2 = 2.0\n",
    "d3 = 3.0\n",
    "Tw1 = 70\n",
    "Tw2 = 80\n",
    "Tw3 = 90\n",
    "\n",
    "a11 = const_temperature.(Tw1, R, U, d1, Ta, Pa)\n",
    "a12 = const_temperature.(Tw1, R, U, d2, Ta, Pa)\n",
    "a13 = const_temperature.(Tw1, R, U, d3, Ta, Pa)\n",
    "\n",
    "a21 = const_temperature.(Tw2, R, U, d1, Ta, Pa)\n",
    "a22 = const_temperature.(Tw2, R, U, d2, Ta, Pa)\n",
    "a23 = const_temperature.(Tw2, R, U, d3, Ta, Pa)\n",
    "\n",
    "a31 = const_temperature.(Tw3, R, U, d1, Ta, Pa)\n",
    "a32 = const_temperature.(Tw3, R, U, d2, Ta, Pa)\n",
    "a33 = const_temperature.(Tw3, R, U, d3, Ta, Pa)\n",
    "\n",
    "b1 = const_temperature.(Tw1, R, U, d2, Ta+1, Pa)\n",
    "b2 = const_temperature.(Tw2, R, U, d2, Ta+1, Pa)\n",
    "b3 = const_temperature.(Tw3, R, U, d2, Ta+1, Pa)\n",
    "\n",
    "E11 = [x.E for x in a11]\n",
    "I11 = [1000*x.I for x in a11]\n",
    "E12 = [x.E for x in a12]\n",
    "I12 = [1000*x.I for x in a12]\n",
    "E13 = [x.E for x in a13]\n",
    "I13 = [1000*x.I for x in a13]\n",
    "\n",
    "E21 = [x.E for x in a21]\n",
    "I21 = [1000*x.I for x in a21]\n",
    "E22 = [x.E for x in a22]\n",
    "I22 = [1000*x.I for x in a22]\n",
    "E23 = [x.E for x in a23]\n",
    "I23 = [1000*x.I for x in a23]\n",
    "\n",
    "E31 = [x.E for x in a31]\n",
    "I31 = [1000*x.I for x in a31]\n",
    "E32 = [x.E for x in a32]\n",
    "I32 = [1000*x.I for x in a32]\n",
    "E33 = [x.E for x in a33]\n",
    "I33 = [1000*x.I for x in a33];\n",
    "\n",
    "E1b = [x.E for x in b1]\n",
    "I1b = [1000*x.I for x in b1]\n",
    "E2b = [x.E for x in b2]\n",
    "I2b = [1000*x.I for x in b3]\n",
    "E3b = [x.E for x in b3]\n",
    "I3b = [1000*x.I for x in b3];\n",
    "\n"
   ]
  },
  {
   "cell_type": "code",
   "execution_count": null,
   "metadata": {},
   "outputs": [],
   "source": [
    "plot(U, E21, xlab=\"Velocity (m/s)\", \n",
    "    ylab=\"Voltage (V)\", title=\"\", \n",
    "    label=\"T = 80°C, D = 1.5 mm\", color=:red, linestyle=:solid)\n",
    "plot!(U, E22, label=\"T = 80°C, D = 2 mm\", color=:green, linestyle=:solid)\n",
    "plot!(U, E23, label=\"T = 80°C, D = 3 mm\", color=:black, linestyle=:solid)\n",
    "\n",
    "plot!(U, E31, label=\"T = 90°C, D = 1.5 mm\", color=:red, linestyle=:dash)\n",
    "plot!(U, E32, label=\"T = 90°C, D = 2 mm\", color=:green, linestyle=:dash)\n",
    "plot!(U, E33, label=\"T = 90°C, D = 3 mm\", color=:black, linestyle=:dash)\n",
    "\n",
    "\n",
    "#savefig(\"../figures/CTA-Eo.pdf\")"
   ]
  },
  {
   "cell_type": "code",
   "execution_count": null,
   "metadata": {},
   "outputs": [],
   "source": [
    "plot(U, E21, xlab=\"Velocity (m/s)\", \n",
    "    ylab=\"Voltage (V)\", title=\"\", \n",
    "    label=\"T = 80°C, D = 1.5 mm\", color=:red, linestyle=:solid)\n",
    "plot!(U, E22, label=\"T = 80°C, D = 2 mm\", color=:green, linestyle=:solid)\n",
    "plot!(U, E23, label=\"T = 80°C, D = 3 mm\", color=:black, linestyle=:solid)\n",
    "\n",
    "plot!(U, E31, label=\"T = 90°C, D = 1.5 mm\", color=:red, linestyle=:dash)\n",
    "plot!(U, E32, label=\"T = 90°C, D = 2 mm\", color=:green, linestyle=:dash)\n",
    "plot!(U, E33, label=\"T = 90°C, D = 3 mm\", color=:black, linestyle=:dash)\n",
    "\n",
    "\n",
    "savefig(\"../figures/CTA-Eo.pdf\")"
   ]
  },
  {
   "cell_type": "code",
   "execution_count": null,
   "metadata": {},
   "outputs": [],
   "source": [
    "plotattr(\"ls\")"
   ]
  },
  {
   "cell_type": "code",
   "execution_count": null,
   "metadata": {},
   "outputs": [],
   "source": [
    "plot(U, I21, xlab=\"Velocity (m/s)\", \n",
    "    ylab=\"Current (mA)\", title=\"\", \n",
    "    label=\"T = 80°C, D = 1.5 mm\", color=:red, linestyle=:solid)\n",
    "plot!(U, I22, label=\"T = 80°C, D = 2 mm\", color=:green, linestyle=:solid)\n",
    "plot!(U, I23, label=\"T = 80°C, D = 3 mm\", color=:black, linestyle=:solid)\n",
    "\n",
    "plot!(U, I31, label=\"T = 90°C, D = 1.5 mm\", color=:red, linestyle=:dash)\n",
    "plot!(U, I32, label=\"T = 90°C, D = 2 mm\", color=:green, linestyle=:dash)\n",
    "plot!(U, I33, label=\"T = 90°C, D = 3 mm\", color=:black, linestyle=:dash)\n",
    "\n",
    "#savefig(\"../figures/CTA-I.pdf\")"
   ]
  },
  {
   "cell_type": "code",
   "execution_count": null,
   "metadata": {},
   "outputs": [],
   "source": [
    "plot(U, I21, xlab=\"Velocity (m/s)\", \n",
    "    ylab=\"Current (mA)\", title=\"\", \n",
    "    label=\"T = 80°C, D = 1.5 mm\", color=:red, linestyle=:solid)\n",
    "plot!(U, I22, label=\"T = 80°C, D = 2 mm\", color=:green, linestyle=:solid)\n",
    "plot!(U, I23, label=\"T = 80°C, D = 3 mm\", color=:black, linestyle=:solid)\n",
    "\n",
    "plot!(U, I31, label=\"T = 90°C, D = 1.5 mm\", color=:red, linestyle=:dash)\n",
    "plot!(U, I32, label=\"T = 90°C, D = 2 mm\", color=:green, linestyle=:dash)\n",
    "plot!(U, I33, label=\"T = 90°C, D = 3 mm\", color=:black, linestyle=:dash)\n",
    "\n",
    "savefig(\"../figures/CTA-I.pdf\")"
   ]
  },
  {
   "cell_type": "code",
   "execution_count": null,
   "metadata": {},
   "outputs": [],
   "source": [
    "e1 = -(E1b - E12) ./ E12 * 100\n",
    "e2 = -(E2b - E22) ./ E22 * 100\n",
    "e3 = -(E3b - E32) ./ E32 * 100\n",
    "\n",
    "\n",
    "\n",
    "\n",
    "plot(U, e1, xlab=\"Velocity (m/s)\", \n",
    "    ylab=\"Voltage difference (%)\", label=\"T = 70°C\")\n",
    "\n",
    "plot!(U, e2, label=\"T = 80°C\")\n",
    "plot!(U, e3, label=\"T = 90°C\")"
   ]
  },
  {
   "cell_type": "code",
   "execution_count": null,
   "metadata": {},
   "outputs": [],
   "source": [
    "plot(U, e1, xlab=\"Velocity (m/s)\", \n",
    "    ylab=\"Voltage difference (%)\", label=\"T = 70°C\")\n",
    "\n",
    "plot!(U, e2, label=\"T = 80°C\")\n",
    "plot!(U, e3, label=\"T = 90°C\")\n",
    "savefig(\"../figures/CTA-dt.pdf\")"
   ]
  },
  {
   "cell_type": "code",
   "execution_count": null,
   "metadata": {},
   "outputs": [],
   "source": [
    "p1 = plot(U, E1, xlab=\"Velocity (m/s)\", \n",
    "        ylab=\"Voltage (V)\", title=\"(a) Voltage output\", \n",
    "    label=\"T = 90°C, D = 2 mm\")\n",
    "plot!(U, E2, label=\"T=90°C, D = 3 mm\")\n",
    "plot!(U, E3, label=\"T = 80°C, D = 2 mm\")\n",
    "\n",
    "p2 = plot(U, ea, xlab=\"Velocity (m/s)\", \n",
    "    ylab=\"Voltage Difference (%)\", title=\"(b) Effect of room temp.\",\n",
    "    label=\"T = 90°C\")\n",
    "plot!(U, eb, label=\"T = 80°C\")\n",
    "\n",
    "pp = plot(p1,p2, layout=(1,2), legend=false)\n",
    "\n",
    "\n",
    "savefig(pp, \"../figures/CTA.pdf\")"
   ]
  },
  {
   "cell_type": "markdown",
   "metadata": {},
   "source": [
    "### Conclusões\n",
    "\n",
    "Os gráficos acima mostram que o comportamento do sensor é não linear e \n",
    "\n",
    "$$\n",
    "E \\sim \\sqrt{U}\n",
    "$$\n",
    "Isto é interessante pois quanto menor a velocidade, mais sensível é o instrumento. Por outro lado, a convecção natural limita isso. \n",
    "\n",
    "Os gráficos acima mostram que quanto maior a temperatura de operação maior a sensibilidade mas maior a corrente. Por outro lado, quanto menor a temperatura, maior a sensibilidade em relação à temperatura ambiente o que é ruim\n",
    "\n",
    "Por outro lado reduzir o diâmetro possui uma vantagem considerável: limitam-se as tensões e principalmente a corrente. Isto é muito interessante para sistemas que trabalham com baterias.\n",
    "\n"
   ]
  },
  {
   "cell_type": "markdown",
   "metadata": {},
   "source": [
    "## Corrente constante"
   ]
  },
  {
   "cell_type": "code",
   "execution_count": null,
   "metadata": {},
   "outputs": [],
   "source": [
    "R = Thermistor(5e3, 3000)\n",
    "Pa = 93.0 # kPa, pressão atmosférica\n",
    "Ta = 20.0 # Temperatura ambiente\n",
    "U = 0.5:0.1:30\n"
   ]
  },
  {
   "cell_type": "code",
   "execution_count": null,
   "metadata": {},
   "outputs": [],
   "source": [
    "d1 = 1.5\n",
    "d2 = 2.0\n",
    "d3 = 3.0\n",
    "\n",
    "i1 = 10.0\n",
    "i2 = 15.0\n",
    "i3 = 20.0\n",
    "\n",
    "\n",
    "c11 = const_current.(i1, R, U, d1, Ta, Pa); \n",
    "c12 = const_current.(i1, R, U, d2, Ta, Pa); \n",
    "c13 = const_current.(i1, R, U, d3, Ta, Pa); \n",
    "\n",
    "c21 = const_current.(i2, R, U, d1, Ta, Pa); \n",
    "c22 = const_current.(i2, R, U, d2, Ta, Pa); \n",
    "c23 = const_current.(i2, R, U, d3, Ta, Pa); \n",
    "\n",
    "c31 = const_current.(i3, R, U, d1, Ta, Pa); \n",
    "c32 = const_current.(i3, R, U, d2, Ta, Pa); \n",
    "c33 = const_current.(i3, R, U, d3, Ta, Pa); \n",
    "\n",
    "cb1 = const_current.(i1, R, U, d2, Ta+1.0, Pa); \n",
    "cb2 = const_current.(i2, R, U, d2, Ta+1.0, Pa); \n",
    "cb3 = const_current.(i3, R, U, d2, Ta+1.0, Pa); \n",
    "\n",
    "\n",
    "\n",
    "Ei11 = [x.E for x in c11];\n",
    "Ei12 = [x.E for x in c12];\n",
    "Ei13 = [x.E for x in c13];\n",
    "\n",
    "Ei21 = [x.E for x in c21];\n",
    "Ei22 = [x.E for x in c22];\n",
    "Ei23 = [x.E for x in c23];\n",
    "\n",
    "Ei31 = [x.E for x in c31];\n",
    "Ei32 = [x.E for x in c32];\n",
    "Ei33 = [x.E for x in c33];\n",
    "\n",
    "Ei1b = [x.E for x in cb1];\n",
    "Ei2b = [x.E for x in cb2];\n",
    "Ei3b = [x.E for x in cb3];\n",
    "\n",
    "\n",
    "T11 = [x.T for x in c11];\n",
    "T12 = [x.T for x in c12];\n",
    "T13 = [x.T for x in c13];\n",
    "\n",
    "T21 = [x.T for x in c21];\n",
    "T22 = [x.T for x in c22];\n",
    "T23 = [x.T for x in c23];\n",
    "\n",
    "T31 = [x.T for x in c31];\n",
    "T32 = [x.T for x in c32];\n",
    "T33 = [x.T for x in c33];\n",
    "\n",
    "Tb1 = [x.T for x in cb1];\n",
    "Tb2 = [x.T for x in cb2];\n",
    "Tb3 = [x.T for x in cb3];\n",
    "\n",
    "\n",
    "\n",
    "ei1 = (Ei12 - Ei1b) ./ Ei12 * 100;\n",
    "ei2 = (Ei22 - Ei2b) ./ Ei22 * 100;\n",
    "ei3 = (Ei32 - Ei3b) ./ Ei32 * 100;\n",
    "\n"
   ]
  },
  {
   "cell_type": "code",
   "execution_count": null,
   "metadata": {},
   "outputs": [],
   "source": [
    "plot(U, Ei12, xlab=\"Velocity (m/s)\", \n",
    "    ylab=\"Voltage (V)\",\n",
    "    label=\"I = 10 mA, D = 2 mm\", color=:red)\n",
    "plot!(U, Ei22, label=\"I = 15 mA, D = 2 mm\", color=:green)\n",
    "plot!(U, Ei32, label=\"I = 20 mA, D = 2 mm\", color=:black)\n",
    "\n",
    "#plot!(U, Ei13, label=\"I = 10 mA, D = 3 mm\", color=:red, linestyle=:dash)\n",
    "#plot!(U, Ei23, label=\"I = 15 mA, D = 3 mm\", color=:green, linestyle=:dash)\n",
    "#plot!(U, Ei33, label=\"I = 20 mA, D = 3 mm\", color=:black, linestyle=:dash)\n",
    "\n"
   ]
  },
  {
   "cell_type": "code",
   "execution_count": null,
   "metadata": {},
   "outputs": [],
   "source": [
    "c12[end].T"
   ]
  },
  {
   "cell_type": "code",
   "execution_count": null,
   "metadata": {},
   "outputs": [],
   "source": [
    "plot(U, Ei12, xlab=\"Velocity (m/s)\", \n",
    "    ylab=\"Voltage (V)\",\n",
    "    label=\"I = 10 mA, D = 2 mm\", color=:red)\n",
    "plot!(U, Ei22, label=\"I = 15 mA, D = 2 mm\", color=:green)\n",
    "plot!(U, Ei32, label=\"I = 20 mA, D = 2 mm\", color=:black)\n",
    "\n",
    "savefig(\"../figures/CCA-Eo.pdf\")"
   ]
  },
  {
   "cell_type": "code",
   "execution_count": null,
   "metadata": {},
   "outputs": [],
   "source": []
  },
  {
   "cell_type": "code",
   "execution_count": null,
   "metadata": {},
   "outputs": [],
   "source": [
    "plot(U, T12, xlab=\"Velocity (m/s)\", \n",
    "    ylab=\"Temperature (°C)\",label=\"I = 10 mA\", color=:red)\n",
    "plot!(U, T22, label=\"I = 15 mA\", color=:green)\n",
    "plot!(U, T32, label=\"I = 20 mA\", color=:black)"
   ]
  },
  {
   "cell_type": "code",
   "execution_count": null,
   "metadata": {},
   "outputs": [],
   "source": [
    "plot(U, T12, xlab=\"Velocity (m/s)\", \n",
    "    ylab=\"Temperature (°C)\",label=\"I = 10 mA\", color=:red)\n",
    "plot!(U, T22, label=\"I = 15 mA\", color=:green)\n",
    "plot!(U, T32, label=\"I = 20 mA\", color=:black)\n",
    "\n",
    "savefig(\"../figures/CCA-T.pdf\")"
   ]
  },
  {
   "cell_type": "code",
   "execution_count": null,
   "metadata": {},
   "outputs": [],
   "source": [
    "plot(U, ea, xlab=\"Velocidade (m/s)\", \n",
    "    ylab=\"Diferença de tensão (%)\", title=\"Efeito de variação de 2oC da temperatura ambiente\",\n",
    "    label=\"I = 25 mA\")\n",
    "plot!(U, eb, label=\"I = 20 mA\")\n",
    "plot!(U, ec, label=\"I = 15 mA\")"
   ]
  },
  {
   "cell_type": "code",
   "execution_count": null,
   "metadata": {},
   "outputs": [],
   "source": [
    "p1 = plot(U, E1, xlab=\"Velocity (m/s)\", \n",
    "    ylab=\"Voltage (V)\", title=\"Voltage output\", \n",
    "    label=\"I = 25 mA\")\n",
    "plot!(U, E2, label=\"I = 20 mA\")\n",
    "plot!(U, E5, label=\"I = 15 mA\")\n",
    "\n",
    "\n",
    "\n",
    "p2 = plot(U, T1, xlab=\"Velocity (m/s)\", \n",
    "    ylab=\"Temperature (°C)\", title=\"Thermistor temperature\", \n",
    "    label=\"I = 25 mA\")\n",
    "plot!(U, T2, label=\"I = 20 mA\")\n",
    "plot!(U, T5, label=\"I = 15 mA\")\n",
    "\n",
    "pp = plot(p1, p2, layout=(1,2))\n",
    "savefig(pp, \"../figures/CCA.pdf\")\n"
   ]
  },
  {
   "cell_type": "markdown",
   "metadata": {},
   "source": [
    "### Conclusões\n",
    "\n",
    "O comportamento é bem parecido em geral com o caso com temperatura constante. Talvez os aspecto mais importante seja a variação acentuada da temperatura o que pode causar algumas dificuldades. Um problema é a temperatura excessiva em baixas velocidades o que pode causar danos ao termistor mas atingir altas temperaturas é o único jeito de se conseguir sensibilidade nas velocidades mais altas."
   ]
  },
  {
   "cell_type": "code",
   "execution_count": null,
   "metadata": {},
   "outputs": [],
   "source": []
  }
 ],
 "metadata": {
  "kernelspec": {
   "display_name": "Julia 0.6.4",
   "language": "julia",
   "name": "julia-0.6"
  },
  "language_info": {
   "file_extension": ".jl",
   "mimetype": "application/julia",
   "name": "julia",
   "version": "0.6.4"
  }
 },
 "nbformat": 4,
 "nbformat_minor": 2
}
