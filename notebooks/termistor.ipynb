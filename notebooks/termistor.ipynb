{
 "cells": [
  {
   "cell_type": "markdown",
   "metadata": {},
   "source": [
    "# Anemômetro utilizando termistor\n",
    "\n",
    "Este notebook modela um anemômetro utilizando um termistor aquecido pela corrente elétrica passando por ele e esfriado pelo escoamento ao redor do mesmo.\n",
    "\n",
    "A resistência elétrica do termistor varia de acordo com a seguinte relação\n",
    "\n",
    "$$\n",
    "R = R_0\\exp\\left[ B \\cdot \\left(\\frac{1}{T} - \\frac{1}{T_0} \\right) \\right]\n",
    "$$\n",
    "\n",
    "Onde \n",
    " * $T$ é a temperatura do termistor em K\n",
    " * $T_0$ é a temperatura de referência em K\n",
    " * $R_0$ é a resistência do termistor à temperature de referência $T_0$\n",
    " * $B$ é um coeficiente empírico com unidade 1/K\n",
    " "
   ]
  },
  {
   "cell_type": "code",
   "execution_count": null,
   "metadata": {},
   "outputs": [],
   "source": [
    "using Plots\n",
    "pyplot()"
   ]
  },
  {
   "cell_type": "code",
   "execution_count": null,
   "metadata": {},
   "outputs": [],
   "source": [
    "include(\"../src/ThermistorHW.jl\")\n",
    "using ThermistorHW"
   ]
  },
  {
   "cell_type": "markdown",
   "metadata": {},
   "source": [
    "## Verificando o comportamento do Termistor NTC\n",
    "\n",
    "Vamos modelar um termistor com as seguintes características:\n",
    "\n",
    " * $T_0 = 20^\\circ C$\n",
    " * $R_0 = 5000\\:\\Omega$\n",
    " * $B = 3200\\:K^{-1}$\n",
    " "
   ]
  },
  {
   "cell_type": "code",
   "execution_count": null,
   "metadata": {},
   "outputs": [],
   "source": [
    "R = Thermistor(5e3, 3000, 20)"
   ]
  },
  {
   "cell_type": "code",
   "execution_count": null,
   "metadata": {},
   "outputs": [],
   "source": [
    "T = 0.0:0.5:120.0\n",
    "r = R.(T); R₀"
   ]
  },
  {
   "cell_type": "code",
   "execution_count": null,
   "metadata": {},
   "outputs": [],
   "source": [
    "plot(T, r, xlab=\"Temperature (°C)\", ylab=\"Resistance (Ω)\",\n",
    "    label=\"Thermistor R₀ = 5kΩ, B = 3000 K\", title=\"Resistance of a Thermistor\")\n",
    "\n",
    "savefig(\"../figures/thermistor.pdf\")\n",
    "\n"
   ]
  },
  {
   "cell_type": "code",
   "execution_count": null,
   "metadata": {},
   "outputs": [],
   "source": []
  },
  {
   "cell_type": "markdown",
   "metadata": {},
   "source": [
    "## Funcionamento de um anomômetro\n",
    "\n",
    "O calor gerado pela corrente elétrica no termistor é transferido por convecção para o escoamento ao seu redor:\n",
    "\n",
    "$$\n",
    "R(T)\\cdot I^2 = h\\cdot A\\cdot \\left(T - T_\\infty\\right)\n",
    "$$\n",
    "\n",
    "Lembrando que $h$ depende da velocidade, esta equação pode ser resolvida. Existem dois modos básicos de operação:\n",
    "\n",
    " * Corrente constante, onde I é conhecida e deve-se determinar a temperatura do termistor\n",
    " * Temperatura constante, onde T é conhecida e deve-se determinar a corrente\n",
    " \n",
    " É interessante observar que apesar da eletrônica do modo corrente constante ser muito mais simples, neste modelo é necessário usar um esquema iterativo para calcular a temperatura. Por outro lado, o modelo com temperatura constante é direto."
   ]
  },
  {
   "cell_type": "markdown",
   "metadata": {},
   "source": [
    "## Temperatura constante"
   ]
  },
  {
   "cell_type": "code",
   "execution_count": null,
   "metadata": {},
   "outputs": [],
   "source": [
    "R = Thermistor(5e3, 3000)\n",
    "Pa = 93.0 # kPa, pressão atmosférica\n",
    "Ta = 20.0 # Temperatura ambiente\n",
    "U = 0.5:0.1:30\n"
   ]
  },
  {
   "cell_type": "code",
   "execution_count": null,
   "metadata": {},
   "outputs": [],
   "source": [
    "a1 = const_temperature.(90.0, R, U, 2.0, Ta, Pa);\n",
    "a2 = const_temperature.(90.0, R, U, 3.0, Ta, Pa);\n",
    "a3 = const_temperature.(80.0, R, U, 2.0, Ta, Pa);\n",
    "a4 = const_temperature.(90.0, R, U, 2.0, Ta+2.0, Pa)\n",
    "a5 = const_temperature.(80.0, R, U, 2.0, Ta+2.0, Pa)\n",
    "E1 = [x.E for x in a1]\n",
    "I1 = [1000*x.I for x in a1]\n",
    "E2 = [x.E for x in a2]\n",
    "I2 = [1000*x.I for x in a2]\n",
    "E3 = [x.E for x in a3]\n",
    "I3 = [1000*x.I for x in a3];\n",
    "E4 = [x.E for x in a4]\n",
    "I4 = [1000*x.I for x in a4];\n",
    "E5 = [x.E for x in a5]\n",
    "I5 = [1000*x.I for x in a5];\n"
   ]
  },
  {
   "cell_type": "code",
   "execution_count": null,
   "metadata": {},
   "outputs": [],
   "source": [
    "plot(U, E1, xlab=\"Velocity (m/s)\", \n",
    "    ylab=\"Voltage (V)\", title=\"\", \n",
    "    label=\"T = 90°C, D = 2 mm\")\n",
    "plot!(U, E2, label=\"T=90°C, D = 3 mm\")\n",
    "plot!(U, E3, label=\"T = 80°C, D = 2 mm\")\n",
    "\n",
    "#savefig(\"../figures/CTA-Eo.pdf\")"
   ]
  },
  {
   "cell_type": "code",
   "execution_count": null,
   "metadata": {},
   "outputs": [],
   "source": [
    "plot(U, I1, xlab=\"Velocidade (m/s)\", \n",
    "    ylab=\"Corrente (mA)\", title=\"Corrente elétrica no sensor\", \n",
    "    label=\"T = 90°C, D = 2 mm\")\n",
    "plot!(U, I2, label=\"T=90°C, D = 3 mm\")\n",
    "plot!(U, I3, label=\"T = 80°C, D = 2 mm\")\n",
    "\n",
    "#savefig(\"../figures/CTA-I.pdf\")"
   ]
  },
  {
   "cell_type": "code",
   "execution_count": null,
   "metadata": {},
   "outputs": [],
   "source": [
    "ea = (E1 - E4) ./ E1 * 100\n",
    "eb = (E3 - E5) ./ E3 * 100\n",
    "\n",
    "plot(U, ea, xlab=\"Velocidade (m/s)\", \n",
    "    ylab=\"Diferença de tensão (%)\", title=\"Efeito de variação de 2oC da temperatura ambiente\",\n",
    "    label=\"T = 90°C\")\n",
    "plot!(U, eb, label=\"T = 80°C\")"
   ]
  },
  {
   "cell_type": "code",
   "execution_count": null,
   "metadata": {},
   "outputs": [],
   "source": [
    "p1 = plot(U, E1, xlab=\"Velocity (m/s)\", \n",
    "        ylab=\"Voltage (V)\", title=\"(a) Voltage output\", \n",
    "    label=\"T = 90°C, D = 2 mm\")\n",
    "plot!(U, E2, label=\"T=90°C, D = 3 mm\")\n",
    "plot!(U, E3, label=\"T = 80°C, D = 2 mm\")\n",
    "\n",
    "p2 = plot(U, ea, xlab=\"Velocity (m/s)\", \n",
    "    ylab=\"Voltage Difference (%)\", title=\"(b) Effect of room temp.\",\n",
    "    label=\"T = 90°C\")\n",
    "plot!(U, eb, label=\"T = 80°C\")\n",
    "\n",
    "pp = plot(p1,p2, layout=(1,2), legend=false)\n",
    "\n",
    "\n",
    "savefig(pp, \"../figures/CTA.pdf\")"
   ]
  },
  {
   "cell_type": "markdown",
   "metadata": {},
   "source": [
    "### Conclusões\n",
    "\n",
    "Os gráficos acima mostram que o comportamento do sensor é não linear e \n",
    "\n",
    "$$\n",
    "E \\sim \\sqrt{U}\n",
    "$$\n",
    "Isto é interessante pois quanto menor a velocidade, mais sensível é o instrumento. Por outro lado, a convecção natural limita isso. \n",
    "\n",
    "Os gráficos acima mostram que quanto maior a temperatura de operação maior a sensibilidade mas maior a corrente. Por outro lado, quanto menor a temperatura, maior a sensibilidade em relação à temperatura ambiente o que é ruim\n",
    "\n",
    "Por outro lado reduzir o diâmetro possui uma vantagem considerável: limitam-se as tensões e principalmente a corrente. Isto é muito interessante para sistemas que trabalham com baterias.\n",
    "\n"
   ]
  },
  {
   "cell_type": "markdown",
   "metadata": {},
   "source": [
    "## Corrente constante"
   ]
  },
  {
   "cell_type": "code",
   "execution_count": null,
   "metadata": {},
   "outputs": [],
   "source": [
    "R = Thermistor(5e3, 3000)\n",
    "Pa = 93.0 # kPa, pressão atmosférica\n",
    "Ta = 20.0 # Temperatura ambiente\n",
    "U = 0.5:0.1:30\n"
   ]
  },
  {
   "cell_type": "code",
   "execution_count": null,
   "metadata": {},
   "outputs": [],
   "source": [
    "b1 = const_current.(25, R, U, 2.0, Ta, Pa);\n",
    "b2 = const_current.(20, R, U, 2.0, Ta, Pa);\n",
    "b3 = const_current.(25, R, U, 2.0, Ta+2, Pa);\n",
    "b4 = const_current.(20, R, U, 2.0, Ta+2, Pa);\n",
    "b5 = const_current.(15, R, U, 2.0, Ta, Pa);\n",
    "b6 = const_current.(15, R, U, 2.0, Ta+2, Pa);\n",
    "\n",
    "E1 = [x.E for x in b1];\n",
    "E2 = [x.E for x in b2];\n",
    "E3 = [x.E for x in b3];\n",
    "E4 = [x.E for x in b4];\n",
    "E5 = [x.E for x in b5];\n",
    "E6 = [x.E for x in b6];\n",
    "\n",
    "T1 = [x.T for x in b1];\n",
    "T2 = [x.T for x in b2];\n",
    "T3 = [x.T for x in b3];\n",
    "T4 = [x.T for x in b4];\n",
    "T5 = [x.T for x in b5];\n",
    "T6 = [x.T for x in b6];\n",
    "\n",
    "ea = (E1 - E3) ./ E1 * 100;\n",
    "eb = (E2 - E4) ./ E1 * 100;\n",
    "ec = (E5 - E6) ./ E1 * 100;\n"
   ]
  },
  {
   "cell_type": "code",
   "execution_count": null,
   "metadata": {},
   "outputs": [],
   "source": [
    "plot(U, E1, xlab=\"Velocidade (m/s)\", \n",
    "    ylab=\"Tensão (V)\", title=\"Tensão elétrica no sensor\", \n",
    "    label=\"I = 25 mA\")\n",
    "plot!(U, E2, label=\"I = 20 mA\")\n",
    "plot!(U, E5, label=\"I = 15 mA\")\n"
   ]
  },
  {
   "cell_type": "code",
   "execution_count": null,
   "metadata": {},
   "outputs": [],
   "source": [
    "plot(U, T1, xlab=\"Velocidade (m/s)\", \n",
    "    ylab=\"Temperatura (°C)\", title=\"Temperatura do sensor\", \n",
    "    label=\"I = 25 mA\")\n",
    "plot!(U, T2, label=\"I = 20 mA\")\n",
    "plot!(U, T5, label=\"I = 15 mA\")"
   ]
  },
  {
   "cell_type": "code",
   "execution_count": null,
   "metadata": {},
   "outputs": [],
   "source": [
    "plot(U, ea, xlab=\"Velocidade (m/s)\", \n",
    "    ylab=\"Diferença de tensão (%)\", title=\"Efeito de variação de 2oC da temperatura ambiente\",\n",
    "    label=\"I = 25 mA\")\n",
    "plot!(U, eb, label=\"I = 20 mA\")\n",
    "plot!(U, ec, label=\"I = 15 mA\")"
   ]
  },
  {
   "cell_type": "code",
   "execution_count": null,
   "metadata": {},
   "outputs": [],
   "source": [
    "p1 = plot(U, E1, xlab=\"Velocity (m/s)\", \n",
    "    ylab=\"Voltage (V)\", title=\"Voltage output\", \n",
    "    label=\"I = 25 mA\")\n",
    "plot!(U, E2, label=\"I = 20 mA\")\n",
    "plot!(U, E5, label=\"I = 15 mA\")\n",
    "\n",
    "\n",
    "\n",
    "p2 = plot(U, T1, xlab=\"Velocity (m/s)\", \n",
    "    ylab=\"Temperature (°C)\", title=\"Thermistor temperature\", \n",
    "    label=\"I = 25 mA\")\n",
    "plot!(U, T2, label=\"I = 20 mA\")\n",
    "plot!(U, T5, label=\"I = 15 mA\")\n",
    "\n",
    "pp = plot(p1, p2, layout=(1,2))\n",
    "savefig(pp, \"../figures/CCA.pdf\")\n"
   ]
  },
  {
   "cell_type": "markdown",
   "metadata": {},
   "source": [
    "### Conclusões\n",
    "\n",
    "O comportamento é bem parecido em geral com o caso com temperatura constante. Talvez os aspecto mais importante seja a variação acentuada da temperatura o que pode causar algumas dificuldades. Um problema é a temperatura excessiva em baixas velocidades o que pode causar danos ao termistor mas atingir altas temperaturas é o único jeito de se conseguir sensibilidade nas velocidades mais altas."
   ]
  },
  {
   "cell_type": "code",
   "execution_count": null,
   "metadata": {},
   "outputs": [],
   "source": []
  }
 ],
 "metadata": {
  "kernelspec": {
   "display_name": "Julia 0.6.4",
   "language": "julia",
   "name": "julia-0.6"
  },
  "language_info": {
   "file_extension": ".jl",
   "mimetype": "application/julia",
   "name": "julia",
   "version": "0.6.4"
  }
 },
 "nbformat": 4,
 "nbformat_minor": 2
}
