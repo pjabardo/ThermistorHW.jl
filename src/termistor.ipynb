{
 "cells": [
  {
   "cell_type": "code",
   "execution_count": null,
   "metadata": {},
   "outputs": [],
   "source": [
    "include(\"ThermistorHW.jl\")"
   ]
  },
  {
   "cell_type": "code",
   "execution_count": null,
   "metadata": {},
   "outputs": [],
   "source": [
    "using Plots()\n",
    "gr()"
   ]
  },
  {
   "cell_type": "code",
   "execution_count": null,
   "metadata": {},
   "outputs": [],
   "source": []
  },
  {
   "cell_type": "code",
   "execution_count": null,
   "metadata": {},
   "outputs": [],
   "source": [
    "R = THW.Thermistor(5e3, 3200)\n",
    "THW.const_current(20, R, 10.0, 2.5)"
   ]
  },
  {
   "cell_type": "code",
   "execution_count": null,
   "metadata": {},
   "outputs": [],
   "source": []
  },
  {
   "cell_type": "code",
   "execution_count": null,
   "metadata": {},
   "outputs": [],
   "source": [
    "R = THW.Thermistor(5e3, 3200)\n",
    "THW.const_current(20, R, 10.0, 2.5)\n",
    "I = 10.0\n",
    "U = vcat([0.1, 0.2, 0.3, 0.5, 0.75], (1.0:30.0))\n",
    "tmp = THW.const_current.(I, R, U, 2.5)\n",
    "Tw = [x[1] for x in tmp]\n",
    "E = [x[2] for x in tmp]\n"
   ]
  },
  {
   "cell_type": "code",
   "execution_count": null,
   "metadata": {},
   "outputs": [],
   "source": [
    "#plot(U, Tw)\n",
    "plot(U, E)"
   ]
  },
  {
   "cell_type": "code",
   "execution_count": null,
   "metadata": {},
   "outputs": [],
   "source": []
  },
  {
   "cell_type": "code",
   "execution_count": null,
   "metadata": {},
   "outputs": [],
   "source": []
  },
  {
   "cell_type": "code",
   "execution_count": null,
   "metadata": {},
   "outputs": [],
   "source": [
    "R = THW.Thermistor(5e3, 3200)\n",
    "\n",
    "THW.const_temperature(5.0, R, 3)"
   ]
  },
  {
   "cell_type": "code",
   "execution_count": null,
   "metadata": {},
   "outputs": [],
   "source": [
    "using PyPlot"
   ]
  },
  {
   "cell_type": "code",
   "execution_count": null,
   "metadata": {},
   "outputs": [],
   "source": [
    "U = vcat([0.1, 0.2, 0.3, 0.5, 0.75], (1.0:20.0))\n",
    "tmp = THW.const_temperature.(U, R, 3, 70)\n",
    "mA = [x[1] for x in tmp]\n",
    "E =  [x[2] for x in tmp]\n",
    "plot(U, E, \"rs-\")\n",
    "plot(U, mA, \"bo-\")"
   ]
  },
  {
   "cell_type": "code",
   "execution_count": null,
   "metadata": {},
   "outputs": [],
   "source": [
    "include(\"ThermistorHW.jl\")"
   ]
  },
  {
   "cell_type": "code",
   "execution_count": null,
   "metadata": {},
   "outputs": [],
   "source": [
    "R1 = THW.Thermistor(1e3)\n",
    "R2 = THW.Thermistor(200.0)\n",
    "R3 = THW.Thermistor(25e3)\n",
    "R4 = THW.Thermistor(5e3, 3000)\n",
    "W = THW.Wheatstone(R1, R2, R3, R4)\n",
    "U = vcat([0.1, 0.2, 0.3, 0.5, 0.75], (1.0:20.0));\n",
    "\n",
    "tmp = THW.wcta.(U, W)\n",
    "E = [x[1] for x in tmp]\n",
    "Ea = [x[2] for x in tmp]\n",
    "Eb = [x[3] for x in tmp]\n",
    "ΔE = [x[2]-x[3] for x in tmp]\n",
    "ia = [x[4] for x in tmp]\n",
    "ib = [x[5] for x in tmp];"
   ]
  },
  {
   "cell_type": "code",
   "execution_count": null,
   "metadata": {},
   "outputs": [],
   "source": [
    "plot(U, E, \"rs-\")\n",
    "plot(U, ΔE, \"bo-\")"
   ]
  },
  {
   "cell_type": "code",
   "execution_count": null,
   "metadata": {},
   "outputs": [],
   "source": [
    "mean(E./ΔE)"
   ]
  },
  {
   "cell_type": "code",
   "execution_count": null,
   "metadata": {},
   "outputs": [],
   "source": []
  }
 ],
 "metadata": {
  "kernelspec": {
   "display_name": "Julia 0.6.2",
   "language": "julia",
   "name": "julia-0.6"
  },
  "language_info": {
   "file_extension": ".jl",
   "mimetype": "application/julia",
   "name": "julia",
   "version": "0.6.2"
  }
 },
 "nbformat": 4,
 "nbformat_minor": 2
}
